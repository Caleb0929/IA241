{
 "cells": [
  {
   "cell_type": "markdown",
   "id": "3942b98d",
   "metadata": {},
   "source": [
    "# Examining COVID-19 Data In Kenya"
   ]
  },
  {
   "cell_type": "markdown",
   "id": "5698c30e",
   "metadata": {},
   "source": [
    "## Author Information"
   ]
  },
  {
   "cell_type": "markdown",
   "id": "0c61e8c4",
   "metadata": {},
   "source": [
    "Author: Caleb Hackett, Organization: James Madison University"
   ]
  },
  {
   "cell_type": "markdown",
   "id": "16749224",
   "metadata": {},
   "source": [
    "## COVID-19 Background"
   ]
  },
  {
   "cell_type": "markdown",
   "id": "f4a995e8",
   "metadata": {},
   "source": [
    "COVID-19 is a newer coronavirus that was first identified in Wuhan, China, in December 2019. The virus became a global pandemic with a high transmission rate. The pandemic is still ongoing as of 05/06/21."
   ]
  },
  {
   "cell_type": "markdown",
   "id": "146b65d7",
   "metadata": {},
   "source": [
    "## Data Source"
   ]
  },
  {
   "cell_type": "markdown",
   "id": "e0c3a98a",
   "metadata": {},
   "source": [
    "The data used is downloaded from [European Centre for Disease Prevention and Control](https://www.ecdc.europa.eu/en/publications-data/download-todays-data-geographic-distribution-covid-19-cases-worldwide) Along with the necessary imported python libraries.\n",
    "    "
   ]
  },
  {
   "cell_type": "markdown",
   "id": "d0b97298",
   "metadata": {},
   "source": [
    " ![covid image](https://southkingstownri.com/ImageRepository/Document?documentID=3809)"
   ]
  },
  {
   "cell_type": "markdown",
   "id": "11cfa2a1",
   "metadata": {},
   "source": [
    "## Import Data"
   ]
  },
  {
   "cell_type": "code",
   "execution_count": 79,
   "id": "99a029e4",
   "metadata": {},
   "outputs": [],
   "source": [
    "%matplotlib inline\n",
    "import pandas\n",
    "import matplotlib.pyplot as plt"
   ]
  },
  {
   "cell_type": "code",
   "execution_count": 80,
   "id": "33dc8779",
   "metadata": {},
   "outputs": [
    {
     "data": {
      "text/html": [
       "<div>\n",
       "<style scoped>\n",
       "    .dataframe tbody tr th:only-of-type {\n",
       "        vertical-align: middle;\n",
       "    }\n",
       "\n",
       "    .dataframe tbody tr th {\n",
       "        vertical-align: top;\n",
       "    }\n",
       "\n",
       "    .dataframe thead th {\n",
       "        text-align: right;\n",
       "    }\n",
       "</style>\n",
       "<table border=\"1\" class=\"dataframe\">\n",
       "  <thead>\n",
       "    <tr style=\"text-align: right;\">\n",
       "      <th></th>\n",
       "      <th>dateRep</th>\n",
       "      <th>day</th>\n",
       "      <th>month</th>\n",
       "      <th>year</th>\n",
       "      <th>cases</th>\n",
       "      <th>deaths</th>\n",
       "      <th>countriesAndTerritories</th>\n",
       "      <th>geoId</th>\n",
       "      <th>countryterritoryCode</th>\n",
       "      <th>popData2019</th>\n",
       "      <th>continentExp</th>\n",
       "      <th>Cumulative_number_for_14_days_of_COVID-19_cases_per_100000</th>\n",
       "    </tr>\n",
       "  </thead>\n",
       "  <tbody>\n",
       "    <tr>\n",
       "      <th>30898</th>\n",
       "      <td>2020-12-14</td>\n",
       "      <td>14</td>\n",
       "      <td>12</td>\n",
       "      <td>2020</td>\n",
       "      <td>366</td>\n",
       "      <td>1</td>\n",
       "      <td>Kenya</td>\n",
       "      <td>KE</td>\n",
       "      <td>KEN</td>\n",
       "      <td>52573967.0</td>\n",
       "      <td>Africa</td>\n",
       "      <td>16.312256</td>\n",
       "    </tr>\n",
       "    <tr>\n",
       "      <th>30899</th>\n",
       "      <td>2020-12-13</td>\n",
       "      <td>13</td>\n",
       "      <td>12</td>\n",
       "      <td>2020</td>\n",
       "      <td>548</td>\n",
       "      <td>4</td>\n",
       "      <td>Kenya</td>\n",
       "      <td>KE</td>\n",
       "      <td>KEN</td>\n",
       "      <td>52573967.0</td>\n",
       "      <td>Africa</td>\n",
       "      <td>16.968474</td>\n",
       "    </tr>\n",
       "    <tr>\n",
       "      <th>30900</th>\n",
       "      <td>2020-12-12</td>\n",
       "      <td>12</td>\n",
       "      <td>12</td>\n",
       "      <td>2020</td>\n",
       "      <td>673</td>\n",
       "      <td>14</td>\n",
       "      <td>Kenya</td>\n",
       "      <td>KE</td>\n",
       "      <td>KEN</td>\n",
       "      <td>52573967.0</td>\n",
       "      <td>Africa</td>\n",
       "      <td>17.731209</td>\n",
       "    </tr>\n",
       "    <tr>\n",
       "      <th>30901</th>\n",
       "      <td>2020-12-11</td>\n",
       "      <td>11</td>\n",
       "      <td>12</td>\n",
       "      <td>2020</td>\n",
       "      <td>644</td>\n",
       "      <td>16</td>\n",
       "      <td>Kenya</td>\n",
       "      <td>KE</td>\n",
       "      <td>KEN</td>\n",
       "      <td>52573967.0</td>\n",
       "      <td>Africa</td>\n",
       "      <td>19.406943</td>\n",
       "    </tr>\n",
       "    <tr>\n",
       "      <th>30902</th>\n",
       "      <td>2020-12-10</td>\n",
       "      <td>10</td>\n",
       "      <td>12</td>\n",
       "      <td>2020</td>\n",
       "      <td>561</td>\n",
       "      <td>7</td>\n",
       "      <td>Kenya</td>\n",
       "      <td>KE</td>\n",
       "      <td>KEN</td>\n",
       "      <td>52573967.0</td>\n",
       "      <td>Africa</td>\n",
       "      <td>19.665627</td>\n",
       "    </tr>\n",
       "    <tr>\n",
       "      <th>30903</th>\n",
       "      <td>2020-12-09</td>\n",
       "      <td>9</td>\n",
       "      <td>12</td>\n",
       "      <td>2020</td>\n",
       "      <td>521</td>\n",
       "      <td>14</td>\n",
       "      <td>Kenya</td>\n",
       "      <td>KE</td>\n",
       "      <td>KEN</td>\n",
       "      <td>52573967.0</td>\n",
       "      <td>Africa</td>\n",
       "      <td>20.139245</td>\n",
       "    </tr>\n",
       "    <tr>\n",
       "      <th>30904</th>\n",
       "      <td>2020-12-08</td>\n",
       "      <td>8</td>\n",
       "      <td>12</td>\n",
       "      <td>2020</td>\n",
       "      <td>199</td>\n",
       "      <td>5</td>\n",
       "      <td>Kenya</td>\n",
       "      <td>KE</td>\n",
       "      <td>KEN</td>\n",
       "      <td>52573967.0</td>\n",
       "      <td>Africa</td>\n",
       "      <td>20.531074</td>\n",
       "    </tr>\n",
       "    <tr>\n",
       "      <th>30905</th>\n",
       "      <td>2020-12-07</td>\n",
       "      <td>7</td>\n",
       "      <td>12</td>\n",
       "      <td>2020</td>\n",
       "      <td>396</td>\n",
       "      <td>8</td>\n",
       "      <td>Kenya</td>\n",
       "      <td>KE</td>\n",
       "      <td>KEN</td>\n",
       "      <td>52573967.0</td>\n",
       "      <td>Africa</td>\n",
       "      <td>20.938119</td>\n",
       "    </tr>\n",
       "    <tr>\n",
       "      <th>30906</th>\n",
       "      <td>2020-12-06</td>\n",
       "      <td>6</td>\n",
       "      <td>12</td>\n",
       "      <td>2020</td>\n",
       "      <td>735</td>\n",
       "      <td>12</td>\n",
       "      <td>Kenya</td>\n",
       "      <td>KE</td>\n",
       "      <td>KEN</td>\n",
       "      <td>52573967.0</td>\n",
       "      <td>Africa</td>\n",
       "      <td>22.026110</td>\n",
       "    </tr>\n",
       "    <tr>\n",
       "      <th>30907</th>\n",
       "      <td>2020-12-05</td>\n",
       "      <td>5</td>\n",
       "      <td>12</td>\n",
       "      <td>2020</td>\n",
       "      <td>866</td>\n",
       "      <td>6</td>\n",
       "      <td>Kenya</td>\n",
       "      <td>KE</td>\n",
       "      <td>KEN</td>\n",
       "      <td>52573967.0</td>\n",
       "      <td>Africa</td>\n",
       "      <td>22.931501</td>\n",
       "    </tr>\n",
       "  </tbody>\n",
       "</table>\n",
       "</div>"
      ],
      "text/plain": [
       "         dateRep  day  month  year  cases  deaths countriesAndTerritories  \\\n",
       "30898 2020-12-14   14     12  2020    366       1                   Kenya   \n",
       "30899 2020-12-13   13     12  2020    548       4                   Kenya   \n",
       "30900 2020-12-12   12     12  2020    673      14                   Kenya   \n",
       "30901 2020-12-11   11     12  2020    644      16                   Kenya   \n",
       "30902 2020-12-10   10     12  2020    561       7                   Kenya   \n",
       "30903 2020-12-09    9     12  2020    521      14                   Kenya   \n",
       "30904 2020-12-08    8     12  2020    199       5                   Kenya   \n",
       "30905 2020-12-07    7     12  2020    396       8                   Kenya   \n",
       "30906 2020-12-06    6     12  2020    735      12                   Kenya   \n",
       "30907 2020-12-05    5     12  2020    866       6                   Kenya   \n",
       "\n",
       "      geoId countryterritoryCode  popData2019 continentExp  \\\n",
       "30898    KE                  KEN   52573967.0       Africa   \n",
       "30899    KE                  KEN   52573967.0       Africa   \n",
       "30900    KE                  KEN   52573967.0       Africa   \n",
       "30901    KE                  KEN   52573967.0       Africa   \n",
       "30902    KE                  KEN   52573967.0       Africa   \n",
       "30903    KE                  KEN   52573967.0       Africa   \n",
       "30904    KE                  KEN   52573967.0       Africa   \n",
       "30905    KE                  KEN   52573967.0       Africa   \n",
       "30906    KE                  KEN   52573967.0       Africa   \n",
       "30907    KE                  KEN   52573967.0       Africa   \n",
       "\n",
       "       Cumulative_number_for_14_days_of_COVID-19_cases_per_100000  \n",
       "30898                                          16.312256           \n",
       "30899                                          16.968474           \n",
       "30900                                          17.731209           \n",
       "30901                                          19.406943           \n",
       "30902                                          19.665627           \n",
       "30903                                          20.139245           \n",
       "30904                                          20.531074           \n",
       "30905                                          20.938119           \n",
       "30906                                          22.026110           \n",
       "30907                                          22.931501           "
      ]
     },
     "execution_count": 80,
     "metadata": {},
     "output_type": "execute_result"
    }
   ],
   "source": [
    "df = pandas.read_excel('s3://hackett-ia241-2021spring/COVID-19-geographic-disbtribution-worldwide-2020-12-14.xls')\n",
    "Kenya_data = df.loc[(df['countriesAndTerritories']) == 'Kenya']\n",
    "Kenya_data[:10]"
   ]
  },
  {
   "cell_type": "markdown",
   "id": "b9517bee",
   "metadata": {},
   "source": [
    "## What month had the most amount of deaths in Kenya in 2020?"
   ]
  },
  {
   "cell_type": "code",
   "execution_count": 81,
   "id": "2096634b",
   "metadata": {},
   "outputs": [],
   "source": [
    "sum_death_per_month =Kenya_data.groupby('month').sum()['deaths']"
   ]
  },
  {
   "cell_type": "code",
   "execution_count": 82,
   "id": "6dd6ffc7",
   "metadata": {
    "scrolled": true
   },
   "outputs": [
    {
     "data": {
      "text/plain": [
       "<AxesSubplot:xlabel='month'>"
      ]
     },
     "execution_count": 82,
     "metadata": {},
     "output_type": "execute_result"
    },
    {
     "data": {
      "image/png": "[encoded data removed]",
      "text/plain": [
       "<Figure size 432x288 with 1 Axes>"
      ]
     },
     "metadata": {
      "needs_background": "light"
     },
     "output_type": "display_data"
    }
   ],
   "source": [
    "sum_death_per_month.plot()"
   ]
  },
  {
   "cell_type": "markdown",
   "id": "4d502c5e",
   "metadata": {},
   "source": [
    "As shown in the graph above November of 2020 in Kenya had the most COVID-19 deaths."
   ]
  },
  {
   "cell_type": "markdown",
   "id": "d22422c9",
   "metadata": {},
   "source": [
    "## What month had the most confirmed cases in Kenya in 2020?"
   ]
  },
  {
   "cell_type": "code",
   "execution_count": 83,
   "id": "e5e8375f",
   "metadata": {},
   "outputs": [],
   "source": [
    "sum_cases_per_month = Kenya_data.groupby('month').sum()['cases']"
   ]
  },
  {
   "cell_type": "code",
   "execution_count": 84,
   "id": "69debfd0",
   "metadata": {},
   "outputs": [
    {
     "data": {
      "text/plain": [
       "<AxesSubplot:xlabel='month'>"
      ]
     },
     "execution_count": 84,
     "metadata": {},
     "output_type": "execute_result"
    },
    {
     "data": {
      "image/png": "[encoded data removed]",
      "text/plain": [
       "<Figure size 432x288 with 1 Axes>"
      ]
     },
     "metadata": {
      "needs_background": "light"
     },
     "output_type": "display_data"
    }
   ],
   "source": [
    "sum_cases_per_month.plot()"
   ]
  },
  {
   "cell_type": "markdown",
   "id": "eb81f7e0",
   "metadata": {},
   "source": [
    "As shown in the graph above November of 2020 in Kenya had the most COVID-19 cases."
   ]
  },
  {
   "cell_type": "markdown",
   "id": "4f6c8c79",
   "metadata": {},
   "source": [
    "## How many COVID-19 cases have been confirmed throughout all of 2020?"
   ]
  },
  {
   "cell_type": "code",
   "execution_count": 85,
   "id": "43048c2b",
   "metadata": {
    "scrolled": true
   },
   "outputs": [
    {
     "name": "stdout",
     "output_type": "stream",
     "text": [
      "The total numeber of COVID-19 cases in Kenya 2020 is 91892\n"
     ]
    }
   ],
   "source": [
    "sum_cases_year = Kenya_data.sum()['cases']\n",
    "print('The total numeber of COVID-19 cases in Kenya 2020 is {}'.format (Kenya_data.sum()['cases']))"
   ]
  },
  {
   "cell_type": "markdown",
   "id": "b3927d0b",
   "metadata": {},
   "source": [
    "## Explanation of calculations"
   ]
  },
  {
   "cell_type": "markdown",
   "id": "ba27416f",
   "metadata": {},
   "source": [
    "Kenya_data.groupby('month').sum()['deaths'] adds all of the deaths per month to be able to find which month has the most deaths.\n",
    "Kenya_data.groupby('month').sum()['cases'] adds all of the cases per month to be able to find which month has the most cases.\n",
    "Kenya_data.sum()['cases'] adds all of the cases for the total year and allows for the total number of cases to be displayed."
   ]
  },
  {
   "cell_type": "markdown",
   "id": "d9692e13",
   "metadata": {},
   "source": [
    "## Conclusion"
   ]
  },
  {
   "cell_type": "markdown",
   "id": "23986f2d",
   "metadata": {},
   "source": [
    "The coding shown above was an analysis on Kena's COVID-19 cases in 2020. The project was limited by the data set only having data from 2020. To improve it, there should be a larger data set that is updated to the most current information. "
   ]
  }
 ],
 "metadata": {
  "kernelspec": {
   "display_name": "conda_python3",
   "language": "python",
   "name": "conda_python3"
  },
  "language_info": {
   "codemirror_mode": {
    "name": "ipython",
    "version": 3
   },
   "file_extension": ".py",
   "mimetype": "text/x-python",
   "name": "python",
   "nbconvert_exporter": "python",
   "pygments_lexer": "ipython3",
   "version": "3.6.13"
  }
 },
 "nbformat": 4,
 "nbformat_minor": 5
}
